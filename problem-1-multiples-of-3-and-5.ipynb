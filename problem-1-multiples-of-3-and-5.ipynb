{
 "cells": [
  {
   "cell_type": "markdown",
   "metadata": {},
   "source": [
    "# Problem 1 - Multiples of 3 and 5"
   ]
  },
  {
   "cell_type": "markdown",
   "metadata": {},
   "source": [
    "If we list all the natural numbers below 10 that are multiples of 3 or 5, we get 3, 5, 6 and 9.\n",
    "The sum of these multiples is 23.\n",
    "Find the sum of all the multiples of 3 or 5 below 1000."
   ]
  },
  {
   "cell_type": "code",
   "execution_count": 4,
   "metadata": {
    "collapsed": true
   },
   "outputs": [],
   "source": [
    "import math\n",
    "import functools"
   ]
  },
  {
   "cell_type": "code",
   "execution_count": 209,
   "metadata": {
    "collapsed": true
   },
   "outputs": [],
   "source": [
    "def sum_multiples (highest_number):\n",
    "    total = 0;\n",
    "    for current_number in range(highest_number + 1):\n",
    "        if current_number % 3 == 0 or current_number % 5 == 0:\n",
    "            total += current_number;\n",
    "    return total;"
   ]
  },
  {
   "cell_type": "code",
   "execution_count": 210,
   "metadata": {},
   "outputs": [
    {
     "name": "stdout",
     "output_type": "stream",
     "text": [
      "233168\n"
     ]
    }
   ],
   "source": [
    "print (sum_multiples(999))"
   ]
  },
  {
   "cell_type": "markdown",
   "metadata": {},
   "source": [
    "Here I use filter and reduce to simplify the code"
   ]
  },
  {
   "cell_type": "code",
   "execution_count": 6,
   "metadata": {
    "collapsed": true
   },
   "outputs": [],
   "source": [
    "def sum_multiples (highest_number):\n",
    "    multiples = filter(lambda x: x % 3 == 0 or x % 5 == 0, range(highest_number))\n",
    "    return reduce(lambda x, y: x+y, multiples)"
   ]
  },
  {
   "cell_type": "code",
   "execution_count": 7,
   "metadata": {},
   "outputs": [
    {
     "ename": "NameError",
     "evalue": "name 'reduce' is not defined",
     "output_type": "error",
     "traceback": [
      "\u001b[0;31m---------------------------------------------------------------------------\u001b[0m",
      "\u001b[0;31mNameError\u001b[0m                                 Traceback (most recent call last)",
      "\u001b[0;32m<ipython-input-7-c1291e9b8721>\u001b[0m in \u001b[0;36m<module>\u001b[0;34m()\u001b[0m\n\u001b[0;32m----> 1\u001b[0;31m \u001b[0mprint\u001b[0m \u001b[0;34m(\u001b[0m\u001b[0msum_multiples\u001b[0m\u001b[0;34m(\u001b[0m\u001b[0;36m999\u001b[0m\u001b[0;34m)\u001b[0m\u001b[0;34m)\u001b[0m\u001b[0;34m\u001b[0m\u001b[0m\n\u001b[0m",
      "\u001b[0;32m<ipython-input-6-63865ffc7092>\u001b[0m in \u001b[0;36msum_multiples\u001b[0;34m(highest_number)\u001b[0m\n\u001b[1;32m      1\u001b[0m \u001b[0;32mdef\u001b[0m \u001b[0msum_multiples\u001b[0m \u001b[0;34m(\u001b[0m\u001b[0mhighest_number\u001b[0m\u001b[0;34m)\u001b[0m\u001b[0;34m:\u001b[0m\u001b[0;34m\u001b[0m\u001b[0m\n\u001b[1;32m      2\u001b[0m     \u001b[0mmultiples\u001b[0m \u001b[0;34m=\u001b[0m \u001b[0mfilter\u001b[0m\u001b[0;34m(\u001b[0m\u001b[0;32mlambda\u001b[0m \u001b[0mx\u001b[0m\u001b[0;34m:\u001b[0m \u001b[0mx\u001b[0m \u001b[0;34m%\u001b[0m \u001b[0;36m3\u001b[0m \u001b[0;34m==\u001b[0m \u001b[0;36m0\u001b[0m \u001b[0;32mor\u001b[0m \u001b[0mx\u001b[0m \u001b[0;34m%\u001b[0m \u001b[0;36m5\u001b[0m \u001b[0;34m==\u001b[0m \u001b[0;36m0\u001b[0m\u001b[0;34m,\u001b[0m \u001b[0mrange\u001b[0m\u001b[0;34m(\u001b[0m\u001b[0mhighest_number\u001b[0m\u001b[0;34m)\u001b[0m\u001b[0;34m)\u001b[0m\u001b[0;34m\u001b[0m\u001b[0m\n\u001b[0;32m----> 3\u001b[0;31m     \u001b[0;32mreturn\u001b[0m \u001b[0mreduce\u001b[0m\u001b[0;34m(\u001b[0m\u001b[0;32mlambda\u001b[0m \u001b[0mx\u001b[0m\u001b[0;34m,\u001b[0m \u001b[0my\u001b[0m\u001b[0;34m:\u001b[0m \u001b[0mx\u001b[0m\u001b[0;34m+\u001b[0m\u001b[0my\u001b[0m\u001b[0;34m,\u001b[0m \u001b[0mmultiples\u001b[0m\u001b[0;34m)\u001b[0m\u001b[0;34m\u001b[0m\u001b[0m\n\u001b[0m",
      "\u001b[0;31mNameError\u001b[0m: name 'reduce' is not defined"
     ]
    }
   ],
   "source": [
    "print (sum_multiples(999))"
   ]
  },
  {
   "cell_type": "code",
   "execution_count": null,
   "metadata": {
    "collapsed": true
   },
   "outputs": [],
   "source": []
  },
  {
   "cell_type": "code",
   "execution_count": null,
   "metadata": {
    "collapsed": true
   },
   "outputs": [],
   "source": []
  },
  {
   "cell_type": "markdown",
   "metadata": {},
   "source": [
    "## Generalized for multiple divisors"
   ]
  },
  {
   "cell_type": "markdown",
   "metadata": {},
   "source": [
    "I added a list of divisors that the function can now check.\n",
    "I used a boolean to make sure that I wasn't adding the same number multiple times."
   ]
  },
  {
   "cell_type": "code",
   "execution_count": 211,
   "metadata": {
    "collapsed": true
   },
   "outputs": [],
   "source": [
    "def sum_multiples (highest_number = 0, divisors = []):\n",
    "    total = 0;\n",
    "    for current_number in range(highest_number + 1):\n",
    "        divisable = False\n",
    "        for divisor in divisors:\n",
    "            if current_number % divisor == 0:\n",
    "                divisable = True;\n",
    "        if divisable:\n",
    "            total += current_number\n",
    "    return total;"
   ]
  },
  {
   "cell_type": "code",
   "execution_count": 212,
   "metadata": {},
   "outputs": [
    {
     "name": "stdout",
     "output_type": "stream",
     "text": [
      "233168\n",
      "366832\n"
     ]
    }
   ],
   "source": [
    "print (sum_multiples(999, [3,5]))\n",
    "print (sum_multiples(999, [2,3,5]))"
   ]
  },
  {
   "cell_type": "markdown",
   "metadata": {},
   "source": [
    "## Separate sum and checking functions"
   ]
  },
  {
   "cell_type": "markdown",
   "metadata": {},
   "source": [
    "I separated the sum and checking functions so that other ways of determining which numbers in a series could be added."
   ]
  },
  {
   "cell_type": "code",
   "execution_count": 213,
   "metadata": {
    "collapsed": true
   },
   "outputs": [],
   "source": [
    "def sum_to(highest_number = 0, important_numbers = [], comparator = lambda x, y: True):\n",
    "    total = 0\n",
    "    for current_number in range(highest_number + 1):\n",
    "        add = False;\n",
    "        for important_number in important_numbers:\n",
    "            if (comparator(current_number, important_number)):\n",
    "                add = True\n",
    "        if add:\n",
    "            total += current_number\n",
    "    return total"
   ]
  },
  {
   "cell_type": "code",
   "execution_count": 214,
   "metadata": {},
   "outputs": [
    {
     "name": "stdout",
     "output_type": "stream",
     "text": [
      "The sum of the numbers up to 999 that are divisable by 3 or 5 is 233168\n",
      "The sum of the numbers up to 1 that are greater than 0 is 1\n",
      "The sum of the numbers up to 2 that are greater than 0 is 3\n",
      "The sum of the numbers up to 3 that are greater than 0 is 6\n",
      "The sum of the numbers up to 2 that are the square root of 4 is 2\n",
      "The sum of the numbers up to 3 that are the square root of 4 or 9 is 5\n"
     ]
    }
   ],
   "source": [
    "divisable = lambda x, y: x % y == 0\n",
    "greater_than = lambda x, y: x > y\n",
    "square_root_of = lambda x, y: x == math.sqrt(y)\n",
    "print(\"The sum of the numbers up to 999 that are divisable by 3 or 5 is {}\".format(sum_to(999, [3,5], divisable)))\n",
    "print(\"The sum of the numbers up to 1 that are greater than 0 is {}\".format(sum_to(1, [0], greater_than)))\n",
    "print(\"The sum of the numbers up to 2 that are greater than 0 is {}\".format(sum_to(2, [0], greater_than)))\n",
    "print(\"The sum of the numbers up to 3 that are greater than 0 is {}\".format(sum_to(3, [0], greater_than)))\n",
    "print(\"The sum of the numbers up to 2 that are the square root of 4 is {}\".format(sum_to(2, [4], square_root_of)))\n",
    "print(\"The sum of the numbers up to 3 that are the square root of 4 or 9 is {}\".format(sum_to(3, [4, 9], square_root_of)))"
   ]
  }
 ],
 "metadata": {
  "kernelspec": {
   "display_name": "Python 3",
   "language": "python",
   "name": "python3"
  },
  "language_info": {
   "codemirror_mode": {
    "name": "ipython",
    "version": 3
   },
   "file_extension": ".py",
   "mimetype": "text/x-python",
   "name": "python",
   "nbconvert_exporter": "python",
   "pygments_lexer": "ipython3",
   "version": "3.6.1"
  }
 },
 "nbformat": 4,
 "nbformat_minor": 2
}
