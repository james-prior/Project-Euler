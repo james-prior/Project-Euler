{
 "cells": [
  {
   "cell_type": "markdown",
   "metadata": {},
   "source": [
    "# Problem 3 - Largest Prime Factor"
   ]
  },
  {
   "cell_type": "markdown",
   "metadata": {},
   "source": [
    "The prime factors of 13195 are 5, 7, 13 and 29.\n",
    "\n",
    "What is the largest prime factor of the number 600851475143 ?"
   ]
  },
  {
   "cell_type": "markdown",
   "metadata": {},
   "source": [
    "## Search from half the number down"
   ]
  },
  {
   "cell_type": "markdown",
   "metadata": {},
   "source": [
    "This is too slow.\n",
    "Hits maximum recursion depth with large numbers.\n",
    "The reason I chose to start at half, is the largest factor must paired with 2,\n",
    "therefore it can be at most half the original number."
   ]
  },
  {
   "cell_type": "code",
   "execution_count": 4,
   "metadata": {
    "collapsed": true
   },
   "outputs": [],
   "source": [
    "import math"
   ]
  },
  {
   "cell_type": "code",
   "execution_count": 3,
   "metadata": {
    "collapsed": true
   },
   "outputs": [],
   "source": [
    "def largest_prime_factor1(number = 0):\n",
    "    half_number = int(number/2)\n",
    "    for potential_factor in reversed(range(half_number + 1)):\n",
    "        if potential_factor <= 1:\n",
    "            return 1\n",
    "        elif number % potential_factor == 0:\n",
    "            if largest_prime_factor1(potential_factor) == 1:\n",
    "                return potential_factor"
   ]
  },
  {
   "cell_type": "code",
   "execution_count": 4,
   "metadata": {},
   "outputs": [
    {
     "name": "stdout",
     "output_type": "stream",
     "text": [
      "1000 loops, best of 3: 329 µs per loop\n"
     ]
    }
   ],
   "source": [
    "%timeit largest_prime_factor1(3222)\n"
   ]
  },
  {
   "cell_type": "code",
   "execution_count": 5,
   "metadata": {},
   "outputs": [
    {
     "name": "stdout",
     "output_type": "stream",
     "text": [
      "179\n"
     ]
    }
   ],
   "source": [
    "print(largest_prime_factor1(3222))"
   ]
  },
  {
   "cell_type": "markdown",
   "metadata": {
    "collapsed": true
   },
   "source": [
    "## Caching largest_factors"
   ]
  },
  {
   "cell_type": "markdown",
   "metadata": {},
   "source": [
    "This is faster, but still too slow"
   ]
  },
  {
   "cell_type": "code",
   "execution_count": 6,
   "metadata": {
    "collapsed": true
   },
   "outputs": [],
   "source": [
    "def largest_prime_factor2(number = 0, numbers_to_largest_factor = {}):\n",
    "    half_number = int(number/2)\n",
    "    for potential_factor in reversed(range(half_number + 1)):\n",
    "        if potential_factor <= 1:\n",
    "            return 1\n",
    "        elif number % potential_factor == 0:\n",
    "            if potential_factor not in numbers_to_largest_factor:\n",
    "                largest_factor = largest_prime_factor2(potential_factor, numbers_to_largest_factor)\n",
    "                numbers_to_largest_factor[potential_factor] = largest_factor\n",
    "                if largest_factor == 1:\n",
    "                    return potential_factor\n",
    "            elif numbers_to_largest_factor[potential_factor] == 1:\n",
    "                return potential_factor"
   ]
  },
  {
   "cell_type": "code",
   "execution_count": 7,
   "metadata": {},
   "outputs": [
    {
     "name": "stdout",
     "output_type": "stream",
     "text": [
      "10000 loops, best of 3: 142 µs per loop\n"
     ]
    }
   ],
   "source": [
    "%timeit largest_prime_factor2(3222)"
   ]
  },
  {
   "cell_type": "code",
   "execution_count": 8,
   "metadata": {},
   "outputs": [
    {
     "name": "stdout",
     "output_type": "stream",
     "text": [
      "179\n"
     ]
    }
   ],
   "source": [
    "print(largest_prime_factor2(3222))"
   ]
  },
  {
   "cell_type": "markdown",
   "metadata": {},
   "source": [
    "## Searching the space differently"
   ]
  },
  {
   "cell_type": "markdown",
   "metadata": {},
   "source": [
    "This version speeds up the search by starting at 2 and searching up for all of the factor pairs. This works because the smaller factors are more densely packed, and once found they can be used to easily find each factors higher partner.  \n",
    "The numbers searched only go up to the square root, at which point any factors discovered begin to have a smaller partner.\n",
    "\n",
    "An example is 30.  \n",
    "The square root is 5.3  \n",
    "The factor pairs are:  \n",
    "(2,15)  \n",
    "(3,10)  \n",
    "(5,6)  \n",
    "\n",
    "Going from the top we would check all the numbers between 15 and 6 -> 10 numbers.  \n",
    "Going from the bottom up we only have to check the numbers between 2 and 5 -> 4 numbers.\n",
    "\n"
   ]
  },
  {
   "cell_type": "code",
   "execution_count": 2,
   "metadata": {
    "collapsed": true
   },
   "outputs": [],
   "source": [
    "def largest_prime_factor3(number = 0, numbers_to_largest_factor = {}):\n",
    "    square_root = int(math.sqrt(number))\n",
    "    range_one = range(2, square_root + 1)\n",
    "    range_two = reversed(range(square_root + 1))\n",
    "    ranges = [range_one, range_two]\n",
    "    for index, r in enumerate(ranges):\n",
    "        for potential_factor in r: \n",
    "            if index == 1 and potential_factor <= 1:\n",
    "                return 1\n",
    "            if number % potential_factor == 0:\n",
    "                if index == 0:\n",
    "                    potential_factor = number / potential_factor\n",
    "                if potential_factor not in numbers_to_largest_factor:\n",
    "                    numbers_to_largest_factor[potential_factor] = largest_prime_factor3(potential_factor, numbers_to_largest_factor)\n",
    "                if numbers_to_largest_factor[potential_factor] == 1:\n",
    "                    return potential_factor"
   ]
  },
  {
   "cell_type": "code",
   "execution_count": 13,
   "metadata": {},
   "outputs": [
    {
     "name": "stdout",
     "output_type": "stream",
     "text": [
      "1 loop, best of 3: 241 ms per loop\n"
     ]
    }
   ],
   "source": [
    "%timeit largest_prime_factor3(600851475143)"
   ]
  },
  {
   "cell_type": "code",
   "execution_count": 12,
   "metadata": {},
   "outputs": [
    {
     "name": "stdout",
     "output_type": "stream",
     "text": [
      "6857\n"
     ]
    }
   ],
   "source": [
    "print(largest_prime_factor3(600851475143))"
   ]
  },
  {
   "cell_type": "code",
   "execution_count": 6,
   "metadata": {},
   "outputs": [
    {
     "name": "stdout",
     "output_type": "stream",
     "text": [
      "1\n"
     ]
    }
   ],
   "source": [
    "print(largest_prime_factor3(90709))"
   ]
  }
 ],
 "metadata": {
  "kernelspec": {
   "display_name": "Python 3",
   "language": "python",
   "name": "python3"
  },
  "language_info": {
   "codemirror_mode": {
    "name": "ipython",
    "version": 3
   },
   "file_extension": ".py",
   "mimetype": "text/x-python",
   "name": "python",
   "nbconvert_exporter": "python",
   "pygments_lexer": "ipython3",
   "version": "3.6.1"
  }
 },
 "nbformat": 4,
 "nbformat_minor": 2
}
